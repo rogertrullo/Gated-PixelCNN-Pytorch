{
 "cells": [
  {
   "cell_type": "code",
   "execution_count": 41,
   "metadata": {
    "_cell_guid": "b1076dfc-b9ad-4769-8c92-a6c4dae69d19",
    "_uuid": "8f2839f25d086af736a60e9eeb907d3b93b6e0e5"
   },
   "outputs": [],
   "source": [
    "import numpy as np\n",
    "import torch\n",
    "import torch.nn.functional as F\n",
    "import torch.nn as nn\n",
    "from torch.utils.data import DataLoader\n",
    "from torchvision.datasets import MNIST\n",
    "from torchvision import transforms\n",
    "from torch.optim import Adam\n",
    "import matplotlib.pyplot as plt\n",
    "from torchvision.utils import make_grid"
   ]
  },
  {
   "cell_type": "code",
   "execution_count": 16,
   "metadata": {},
   "outputs": [],
   "source": [
    "from GatedPixelCNN import PixelCNN\n",
    "\n",
    "\n",
    "def discretize_imgs(img_tensor, nlevels):\n",
    "    '''\n",
    "    discretize a floating tensor to a discrete version into nlevels (quantization).\n",
    "    The function assumes that the data is between [0,1]\n",
    "    it return the two outputs; the first is again between [0,1] but only nlevels.\n",
    "    The second is the equivalente but with integer indices between [0,nlevels-1]\n",
    "    '''\n",
    "    xnp=img_tensor.numpy()\n",
    "    xnp_dig=(np.digitize(xnp, np.arange(nlevels) / nlevels) - 1).astype(np.long)\n",
    "    xnp=xnp_dig/(nlevels -1)\n",
    "    return torch.from_numpy(xnp).float(), torch.from_numpy(xnp_dig)\n",
    "    "
   ]
  },
  {
   "cell_type": "markdown",
   "metadata": {},
   "source": [
    "# Data"
   ]
  },
  {
   "cell_type": "code",
   "execution_count": 5,
   "metadata": {},
   "outputs": [],
   "source": [
    "\n",
    "#mod this as needed\n",
    "batch_size=64\n",
    "num_workers=8\n",
    "##############\n",
    "\n",
    "\n",
    "transform = transforms.Compose([\n",
    "        transforms.ToTensor(),\n",
    "    ])\n",
    "train_dataset = MNIST('DATA', download=True, train=True, transform=transform)\n",
    "\n",
    "\n",
    "\n",
    "train_loader = torch.utils.data.DataLoader(train_dataset,\n",
    "        batch_size=batch_size, shuffle=True,\n",
    "        num_workers=num_workers, pin_memory=True)\n"
   ]
  },
  {
   "cell_type": "markdown",
   "metadata": {},
   "source": [
    "# Params for training"
   ]
  },
  {
   "cell_type": "code",
   "execution_count": 58,
   "metadata": {},
   "outputs": [],
   "source": [
    "show_every=100 # show info every this number of iterations\n",
    "nlayers=12 # number of layers for pixelcnn\n",
    "inchans=1 #number of input channels (currently only one is supported)\n",
    "nfeats=16 #number of feature maps across the network\n",
    "Klevels=4 #number of levels to use in discretization\n",
    "nepochs=5 #number of epochs to train\n",
    "lr=1e-3 #learning rate for optimizer\n",
    "generate_every=300\n",
    "nimgs_to_generate=16"
   ]
  },
  {
   "cell_type": "code",
   "execution_count": 51,
   "metadata": {},
   "outputs": [],
   "source": [
    "def generate_imgs(model, shape, nimgs):\n",
    "    x=torch.zeros((nimgs,1,shape[0],shape[1])).cuda()\n",
    "    logits=model(x)\n",
    "    model.eval()\n",
    "    for i in range(x.shape[2]):\n",
    "        for j in range(x.shape[3]):\n",
    "            logits=model(x)\n",
    "            probs=torch.softmax(logits[:,:,i,j],1)\n",
    "            sample=probs.multinomial(1)\n",
    "            x[:,:,i,j]=sample.float()/(Klevels-1)\n",
    "    model.train()\n",
    "    return x.cpu()"
   ]
  },
  {
   "cell_type": "code",
   "execution_count": 52,
   "metadata": {},
   "outputs": [],
   "source": [
    "model=PixelCNN(nlayers=nlayers, in_channels=inchans, nfeats=nfeats, Klevels=Klevels).cuda()"
   ]
  },
  {
   "cell_type": "code",
   "execution_count": 59,
   "metadata": {},
   "outputs": [
    {
     "name": "stdout",
     "output_type": "stream",
     "text": [
      "epoch: 0, it:0/938, loss:0.17039287090301514\n",
      "generating imgs...\n",
      "epoch: 0, it:100/938, loss:0.16692976653575897\n",
      "epoch: 0, it:200/938, loss:0.16180896759033203\n",
      "epoch: 0, it:300/938, loss:0.15814168751239777\n",
      "generating imgs...\n",
      "epoch: 0, it:400/938, loss:0.15354761481285095\n",
      "epoch: 0, it:500/938, loss:0.15709513425827026\n",
      "epoch: 0, it:600/938, loss:0.1586061269044876\n",
      "generating imgs...\n",
      "epoch: 0, it:700/938, loss:0.16148225963115692\n",
      "epoch: 0, it:800/938, loss:0.15922556817531586\n",
      "epoch: 0, it:900/938, loss:0.15367047488689423\n",
      "generating imgs...\n",
      "epoch: 1, it:0/938, loss:0.1491248607635498\n",
      "generating imgs...\n",
      "epoch: 1, it:100/938, loss:0.1527172327041626\n",
      "epoch: 1, it:200/938, loss:0.14044855535030365\n",
      "epoch: 1, it:300/938, loss:0.15388056635856628\n",
      "generating imgs...\n",
      "epoch: 1, it:400/938, loss:0.15040720999240875\n",
      "epoch: 1, it:500/938, loss:0.150235116481781\n",
      "epoch: 1, it:600/938, loss:0.15065419673919678\n",
      "generating imgs...\n",
      "epoch: 1, it:700/938, loss:0.15501564741134644\n",
      "epoch: 1, it:800/938, loss:0.1528855413198471\n",
      "epoch: 1, it:900/938, loss:0.1529986411333084\n",
      "generating imgs...\n",
      "epoch: 2, it:0/938, loss:0.14582400023937225\n",
      "generating imgs...\n",
      "epoch: 2, it:100/938, loss:0.15133102238178253\n",
      "epoch: 2, it:200/938, loss:0.15463469922542572\n",
      "epoch: 2, it:300/938, loss:0.1470043957233429\n",
      "generating imgs...\n",
      "epoch: 2, it:400/938, loss:0.14288559556007385\n",
      "epoch: 2, it:500/938, loss:0.14956265687942505\n",
      "epoch: 2, it:600/938, loss:0.14738522469997406\n",
      "generating imgs...\n",
      "epoch: 2, it:700/938, loss:0.13692761957645416\n",
      "epoch: 2, it:800/938, loss:0.1384863406419754\n",
      "epoch: 2, it:900/938, loss:0.1509370356798172\n",
      "generating imgs...\n",
      "epoch: 3, it:0/938, loss:0.1425582766532898\n",
      "generating imgs...\n",
      "epoch: 3, it:100/938, loss:0.1418381929397583\n",
      "epoch: 3, it:200/938, loss:0.14257782697677612\n",
      "epoch: 3, it:300/938, loss:0.1407739818096161\n",
      "generating imgs...\n",
      "epoch: 3, it:400/938, loss:0.13862255215644836\n",
      "epoch: 3, it:500/938, loss:0.1401853710412979\n",
      "epoch: 3, it:600/938, loss:0.1415451020002365\n",
      "generating imgs...\n",
      "epoch: 3, it:700/938, loss:0.14663688838481903\n",
      "epoch: 3, it:800/938, loss:0.14495204389095306\n",
      "epoch: 3, it:900/938, loss:0.14114150404930115\n",
      "generating imgs...\n",
      "epoch: 4, it:0/938, loss:0.1374664157629013\n",
      "generating imgs...\n",
      "epoch: 4, it:100/938, loss:0.14347748458385468\n",
      "epoch: 4, it:200/938, loss:0.13447923958301544\n",
      "epoch: 4, it:300/938, loss:0.13491088151931763\n",
      "generating imgs...\n",
      "epoch: 4, it:400/938, loss:0.14150337874889374\n",
      "epoch: 4, it:500/938, loss:0.14307720959186554\n",
      "epoch: 4, it:600/938, loss:0.14319190382957458\n",
      "generating imgs...\n",
      "epoch: 4, it:700/938, loss:0.13885992765426636\n",
      "epoch: 4, it:800/938, loss:0.14047133922576904\n",
      "epoch: 4, it:900/938, loss:0.13787111639976501\n",
      "generating imgs...\n"
     ]
    }
   ],
   "source": [
    "optimizer = Adam(model.parameters(), lr=lr, betas=(0, 0.99))\n",
    "criteria=nn.CrossEntropyLoss()\n",
    "\n",
    "list_imgs=[]\n",
    "for epoch in range(nepochs):\n",
    "    for it,(images, labels) in enumerate(train_loader):\n",
    "\n",
    "        imgs,imgs_quant= discretize_imgs(images, Klevels)\n",
    "        imgs=imgs.cuda()\n",
    "        imgs_quant=imgs_quant.cuda()\n",
    "        logits=model(imgs)\n",
    "        loss=criteria(logits,imgs_quant.squeeze())\n",
    "        optimizer.zero_grad() # Backward & update weights\n",
    "        loss.backward()\n",
    "        optimizer.step()\n",
    "        \n",
    "        if it%show_every==0:\n",
    "            print(f'epoch: {epoch}, it:{it}/{len(train_loader)}, loss:{loss.item()}')\n",
    "        if it%generate_every==0:\n",
    "            print('generating imgs...')\n",
    "            samples=generate_imgs(model, (imgs.shape[2],imgs.shape[3]), nimgs_to_generate)\n",
    "            list_imgs.append(samples)"
   ]
  },
  {
   "cell_type": "code",
   "execution_count": 66,
   "metadata": {},
   "outputs": [
    {
     "data": {
      "image/png": "[encoded data removed]",
      "text/plain": [
       "<Figure size 1440x1440 with 1 Axes>"
      ]
     },
     "metadata": {
      "needs_background": "light"
     },
     "output_type": "display_data"
    }
   ],
   "source": [
    "#show the last set of imags generated\n",
    "def show(img):\n",
    "    fig, ax=plt.subplots(figsize=(20,20))\n",
    "    npimg = img.numpy()\n",
    "    ax.imshow(np.transpose(npimg, (1,2,0)), interpolation='nearest')\n",
    "\n",
    "tmp=make_grid(list_imgs[-1], nrow=4)\n",
    "show(tmp)"
   ]
  },
  {
   "cell_type": "code",
   "execution_count": 2,
   "metadata": {},
   "outputs": [],
   "source": [
    "#Make gif animation\n",
    "from matplotlib.animation import FuncAnimation\n",
    "print(len(list_imgs))\n",
    "fig, ax=plt.subplots(figsize=(20,20))\n",
    "def gen_grid(i):\n",
    "    print(f'frame {i}')\n",
    "    img=make_grid(list_imgs[i], nrow=4)\n",
    "    npimg = img.numpy()\n",
    "    ax.imshow(np.transpose(npimg, (1,2,0)), interpolation='nearest')\n",
    "    ax.set_title(f'iteration {i*generate_every}', fontsize=50)\n",
    "    \n",
    "    \n",
    "\n",
    "anim = FuncAnimation(fig, gen_grid, frames=np.arange(len(list_imgs)), interval=500)\n",
    "anim.save('digits.gif', dpi=80, writer='imagemagick')\n",
    "plt.close()"
   ]
  },
  {
   "cell_type": "code",
   "execution_count": null,
   "metadata": {},
   "outputs": [],
   "source": []
  }
 ],
 "metadata": {
  "kernelspec": {
   "display_name": "Python 3",
   "language": "python",
   "name": "python3"
  },
  "language_info": {
   "codemirror_mode": {
    "name": "ipython",
    "version": 3
   },
   "file_extension": ".py",
   "mimetype": "text/x-python",
   "name": "python",
   "nbconvert_exporter": "python",
   "pygments_lexer": "ipython3",
   "version": "3.7.1"
  }
 },
 "nbformat": 4,
 "nbformat_minor": 4
}
